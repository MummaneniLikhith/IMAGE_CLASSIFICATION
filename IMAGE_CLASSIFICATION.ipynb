{
 "cells": [
  {
   "cell_type": "markdown",
   "metadata": {
    "colab_type": "text",
    "id": "view-in-github"
   },
   "source": [
    "<a href=\"https://colab.research.google.com/github/Venkatesh1428/MINI-PROJECT/blob/main/IMAGE_CLASSIFICATION.ipynb\" target=\"_parent\"><img src=\"https://colab.research.google.com/assets/colab-badge.svg\" alt=\"Open In Colab\"/></a>"
   ]
  },
  {
   "cell_type": "code",
   "execution_count": 1,
   "metadata": {},
   "outputs": [
    {
     "name": "stdout",
     "output_type": "stream",
     "text": [
      " Volume in drive C is Windows\n",
      " Volume Serial Number is 1EE9-9EAA\n",
      "\n",
      " Directory of C:\\Users\\mumma\\Desktop\\Project\\MINI-PROJECT-main\\MINI-PROJECT-main\n",
      "\n",
      "16-01-2022  11:31 AM    <DIR>          .\n",
      "16-01-2022  10:03 AM    <DIR>          ..\n",
      "16-01-2022  11:31 AM    <DIR>          .ipynb_checkpoints\n",
      "16-01-2022  10:03 AM                90 DATA SET\n",
      "16-01-2022  11:31 AM            12,824 IMAGE_CLASSIFICATION.ipynb\n",
      "16-01-2022  11:34 AM    <DIR>          images\n",
      "16-01-2022  10:03 AM                59 README.md\n",
      "               3 File(s)         12,973 bytes\n",
      "               4 Dir(s)  51,992,875,008 bytes free\n"
     ]
    }
   ],
   "source": [
    "ls"
   ]
  },
  {
   "cell_type": "code",
   "execution_count": 15,
   "metadata": {
    "colab": {
     "base_uri": "https://localhost:8080/"
    },
    "id": "lO8JUAHQCEMV",
    "outputId": "d6a19f54-5dfa-48a3-ed52-e6637cb88551"
   },
   "outputs": [
    {
     "name": "stdout",
     "output_type": "stream",
     "text": [
      "Requirement already satisfied: ipython-autotime in c:\\users\\mumma\\appdata\\local\\programs\\python\\python39\\lib\\site-packages (0.3.1)\n",
      "Requirement already satisfied: ipython in c:\\users\\mumma\\appdata\\local\\programs\\python\\python39\\lib\\site-packages (from ipython-autotime) (8.0.0)\n",
      "Requirement already satisfied: black in c:\\users\\mumma\\appdata\\local\\programs\\python\\python39\\lib\\site-packages (from ipython->ipython-autotime) (21.12b0)\n",
      "Requirement already satisfied: stack-data in c:\\users\\mumma\\appdata\\local\\programs\\python\\python39\\lib\\site-packages (from ipython->ipython-autotime) (0.1.3)\n",
      "Requirement already satisfied: backcall in c:\\users\\mumma\\appdata\\local\\programs\\python\\python39\\lib\\site-packages (from ipython->ipython-autotime) (0.2.0)\n",
      "Requirement already satisfied: traitlets>=5 in c:\\users\\mumma\\appdata\\local\\programs\\python\\python39\\lib\\site-packages (from ipython->ipython-autotime) (5.1.1)\n",
      "Requirement already satisfied: decorator in c:\\users\\mumma\\appdata\\local\\programs\\python\\python39\\lib\\site-packages (from ipython->ipython-autotime) (5.1.1)\n",
      "Requirement already satisfied: prompt-toolkit!=3.0.0,!=3.0.1,<3.1.0,>=2.0.0 in c:\\users\\mumma\\appdata\\local\\programs\\python\\python39\\lib\\site-packages (from ipython->ipython-autotime) (3.0.24)\n",
      "Requirement already satisfied: pygments in c:\\users\\mumma\\appdata\\local\\programs\\python\\python39\\lib\\site-packages (from ipython->ipython-autotime) (2.11.2)"
     ]
    },
    {
     "name": "stderr",
     "output_type": "stream",
     "text": [
      "WARNING: You are using pip version 21.2.4; however, version 21.3.1 is available.\n",
      "You should consider upgrading via the 'C:\\Users\\mumma\\AppData\\Local\\Programs\\Python\\Python39\\python.exe -m pip install --upgrade pip' command.\n"
     ]
    },
    {
     "name": "stdout",
     "output_type": "stream",
     "text": [
      "\n",
      "Requirement already satisfied: setuptools>=18.5 in c:\\users\\mumma\\appdata\\local\\programs\\python\\python39\\lib\\site-packages (from ipython->ipython-autotime) (58.1.0)\n",
      "Requirement already satisfied: matplotlib-inline in c:\\users\\mumma\\appdata\\local\\programs\\python\\python39\\lib\\site-packages (from ipython->ipython-autotime) (0.1.3)\n",
      "Requirement already satisfied: pickleshare in c:\\users\\mumma\\appdata\\local\\programs\\python\\python39\\lib\\site-packages (from ipython->ipython-autotime) (0.7.5)\n",
      "Requirement already satisfied: jedi>=0.16 in c:\\users\\mumma\\appdata\\local\\programs\\python\\python39\\lib\\site-packages (from ipython->ipython-autotime) (0.18.1)\n",
      "Requirement already satisfied: colorama in c:\\users\\mumma\\appdata\\local\\programs\\python\\python39\\lib\\site-packages (from ipython->ipython-autotime) (0.4.4)\n",
      "Requirement already satisfied: parso<0.9.0,>=0.8.0 in c:\\users\\mumma\\appdata\\local\\programs\\python\\python39\\lib\\site-packages (from jedi>=0.16->ipython->ipython-autotime) (0.8.3)\n",
      "Requirement already satisfied: wcwidth in c:\\users\\mumma\\appdata\\local\\programs\\python\\python39\\lib\\site-packages (from prompt-toolkit!=3.0.0,!=3.0.1,<3.1.0,>=2.0.0->ipython->ipython-autotime) (0.2.5)\n",
      "Requirement already satisfied: pathspec<1,>=0.9.0 in c:\\users\\mumma\\appdata\\local\\programs\\python\\python39\\lib\\site-packages (from black->ipython->ipython-autotime) (0.9.0)\n",
      "Requirement already satisfied: mypy-extensions>=0.4.3 in c:\\users\\mumma\\appdata\\local\\programs\\python\\python39\\lib\\site-packages (from black->ipython->ipython-autotime) (0.4.3)\n",
      "Requirement already satisfied: platformdirs>=2 in c:\\users\\mumma\\appdata\\local\\programs\\python\\python39\\lib\\site-packages (from black->ipython->ipython-autotime) (2.4.1)\n",
      "Requirement already satisfied: typing-extensions>=3.10.0.0 in c:\\users\\mumma\\appdata\\local\\programs\\python\\python39\\lib\\site-packages (from black->ipython->ipython-autotime) (4.0.1)\n",
      "Requirement already satisfied: click>=7.1.2 in c:\\users\\mumma\\appdata\\local\\programs\\python\\python39\\lib\\site-packages (from black->ipython->ipython-autotime) (8.0.3)\n",
      "Requirement already satisfied: tomli<2.0.0,>=0.2.6 in c:\\users\\mumma\\appdata\\local\\programs\\python\\python39\\lib\\site-packages (from black->ipython->ipython-autotime) (1.2.3)\n",
      "Requirement already satisfied: executing in c:\\users\\mumma\\appdata\\local\\programs\\python\\python39\\lib\\site-packages (from stack-data->ipython->ipython-autotime) (0.8.2)\n",
      "Requirement already satisfied: pure-eval in c:\\users\\mumma\\appdata\\local\\programs\\python\\python39\\lib\\site-packages (from stack-data->ipython->ipython-autotime) (0.2.1)\n",
      "Requirement already satisfied: asttokens in c:\\users\\mumma\\appdata\\local\\programs\\python\\python39\\lib\\site-packages (from stack-data->ipython->ipython-autotime) (2.0.5)\n",
      "Requirement already satisfied: six in c:\\users\\mumma\\appdata\\local\\programs\\python\\python39\\lib\\site-packages (from asttokens->stack-data->ipython->ipython-autotime) (1.16.0)\n",
      "Collecting numpy\n",
      "  Downloading numpy-1.22.1-cp39-cp39-win_amd64.whl (14.7 MB)\n",
      "Installing collected packages: numpy\n",
      "Successfully installed numpy-1.22.1\n",
      "The autotime extension is already loaded. To reload it, use:\n",
      "  %reload_ext autotime\n",
      "time: 13.7 s (started: 2022-01-16 12:27:09 +05:30)\n"
     ]
    },
    {
     "name": "stderr",
     "output_type": "stream",
     "text": [
      "WARNING: You are using pip version 21.2.4; however, version 21.3.1 is available.\n",
      "You should consider upgrading via the 'C:\\Users\\mumma\\AppData\\Local\\Programs\\Python\\Python39\\python.exe -m pip install --upgrade pip' command.\n"
     ]
    }
   ],
   "source": [
    "!pip install ipython-autotime\n",
    "!pip install numpy\n",
    "%load_ext autotime"
   ]
  },
  {
   "cell_type": "code",
   "execution_count": 3,
   "metadata": {
    "colab": {
     "base_uri": "https://localhost:8080/"
    },
    "id": "m0z9WMrmz24O",
    "outputId": "74d2aa96-4459-4aff-eb8a-3474a6baa9c6"
   },
   "outputs": [
    {
     "name": "stdout",
     "output_type": "stream",
     "text": [
      "Requirement already satisfied: bing-image-downloader in c:\\users\\mumma\\appdata\\local\\programs\\python\\python39\\lib\\site-packages (1.1.1)\n",
      "time: 828 ms (started: 2022-01-16 12:16:22 +05:30)\n"
     ]
    },
    {
     "name": "stderr",
     "output_type": "stream",
     "text": [
      "WARNING: You are using pip version 21.2.4; however, version 21.3.1 is available.\n",
      "You should consider upgrading via the 'C:\\Users\\mumma\\AppData\\Local\\Programs\\Python\\Python39\\python.exe -m pip install --upgrade pip' command.\n"
     ]
    }
   ],
   "source": [
    "!pip install bing-image-downloader"
   ]
  },
  {
   "cell_type": "code",
   "execution_count": 4,
   "metadata": {
    "colab": {
     "base_uri": "https://localhost:8080/"
    },
    "id": "jj5691ww0mih",
    "outputId": "ba606d10-8dd0-48b9-b78c-71065a42b9da"
   },
   "outputs": [
    {
     "name": "stdout",
     "output_type": "stream",
     "text": [
      "time: 16 ms (started: 2022-01-16 12:16:30 +05:30)\n"
     ]
    },
    {
     "name": "stderr",
     "output_type": "stream",
     "text": [
      "A subdirectory or file images already exists.\n"
     ]
    }
   ],
   "source": [
    "!mkdir images"
   ]
  },
  {
   "cell_type": "code",
   "execution_count": 5,
   "metadata": {
    "colab": {
     "base_uri": "https://localhost:8080/"
    },
    "id": "571ZyxDy03Jp",
    "outputId": "bec30666-d9f8-46c8-e4c9-902c93ee73cb"
   },
   "outputs": [
    {
     "name": "stdout",
     "output_type": "stream",
     "text": [
      "[%] Downloading Images to C:\\Users\\mumma\\Desktop\\Project\\MINI-PROJECT-main\\MINI-PROJECT-main\\images\\ice cream cone\n",
      "\n",
      "\n",
      "[!!]Indexing page: 1\n",
      "\n",
      "[%] Indexed 30 Images on Page 1.\n",
      "\n",
      "===============================================\n",
      "\n",
      "[%] Downloading Image #1 from https://img1.southernliving.timeinc.net/sites/default/files/styles/4_3_horizontal_-_1200x900/public/image/2017/07/main/ice-cream-cones.jpg?itok=9I9Q7gKA\n",
      "[%] File Downloaded !\n",
      "\n",
      "[%] Downloading Image #2 from https://nationaltoday.com/wp-content/uploads/2019/09/national-ice-cream-cone-day.jpg\n",
      "[%] File Downloaded !\n",
      "\n",
      "[%] Downloading Image #3 from https://i2.wp.com/lyssyinthecity.com/wp-content/uploads/2020/02/8SA28L11QbunDIOKo86Qhg.jpg?resize=770%2C1027&amp;ssl=1\n",
      "[%] File Downloaded !\n",
      "\n",
      "[%] Downloading Image #4 from https://www.weekendnotes.com/im/001/07/ice-cream-0011.jpg\n",
      "[%] File Downloaded !\n",
      "\n",
      "[%] Downloading Image #5 from http://www.thethings.com/wp-content/uploads/2016/05/dscf5161.jpg\n",
      "[%] File Downloaded !\n",
      "\n",
      "[%] Downloading Image #6 from http://graphics8.nytimes.com/images/2013/06/02/magazine/02wmt/02wmt-superJumbo-v3.jpg\n",
      "[%] File Downloaded !\n",
      "\n",
      "[%] Downloading Image #7 from https://heinimex.com/wp-content/uploads/2020/10/ice-cream-3.jpg\n",
      "[%] File Downloaded !\n",
      "\n",
      "[%] Downloading Image #8 from https://altohartley.com/wp-content/uploads/2016/11/history_of_ice_cream_cone.jpg\n",
      "[%] File Downloaded !\n",
      "\n",
      "[%] Downloading Image #9 from https://i.redd.it/i2jw6lc2iva31.jpg\n",
      "[%] File Downloaded !\n",
      "\n",
      "[%] Downloading Image #10 from https://heinimex.com/wp-content/uploads/2020/10/ice-cream-2.jpg\n",
      "[%] File Downloaded !\n",
      "\n",
      "[%] Downloading Image #11 from http://www.thethings.com/wp-content/uploads/2016/05/Love-From-The-Oven.jpg\n",
      "[%] File Downloaded !\n",
      "\n",
      "[%] Downloading Image #12 from https://cdn.ebs.newsner.com/wp-content/uploads/sites/11/2017/09/donutcone.jpg\n",
      "[%] File Downloaded !\n",
      "\n",
      "[%] Downloading Image #13 from https://www.thatslife.com.au/media/8433/ice_cream.jpg\n",
      "[Error]Invalid image, not saving https://www.thatslife.com.au/media/8433/ice_cream.jpg\n",
      "\n",
      "[!] Issue getting: https://www.thatslife.com.au/media/8433/ice_cream.jpg\n",
      "[!] Error:: Invalid image, not saving https://www.thatslife.com.au/media/8433/ice_cream.jpg\n",
      "\n",
      "[%] Downloading Image #13 from http://cdn2.tikkido.com/sites/default/files/patriotic-ice-cream-cones-complete.jpg\n",
      "[%] File Downloaded !\n",
      "\n",
      "[%] Downloading Image #14 from https://www.sheknows.com/wp-content/uploads/2018/12/2-doughnut-ice-cream-cone.jpeg\n",
      "[%] File Downloaded !\n",
      "\n",
      "[%] Downloading Image #15 from https://images.squarespace-cdn.com/content/v1/52bf6358e4b0da7f33233c6c/1398127363649-5B5979QD0CC73B0ZPWLI/ke17ZwdGBToddI8pDm48kG87Sfbgg29A4BYEDq3OXvgUqsxRUqqbr1mOJYKfIPR7LoDQ9mXPOjoJoqy81S2I8N_N4V1vUb5AoIIIbLZhVYxCRW4BPu10St3TBAUQYVKcf4OxbJOyh_wHUnyc4kQLQ6SBshRGOku7c30Y_IRDNPta8R2IY5BHMaEj1zOWoDTZ/animal-cracker-ice-cream.jpg\n",
      "[%] File Downloaded !\n",
      "\n",
      "[%] Downloading Image #16 from https://i.pinimg.com/736x/9a/4d/52/9a4d52715ee865780a785c553f9f5afe.jpg\n",
      "[%] File Downloaded !\n",
      "\n",
      "[%] Downloading Image #17 from http://www.mysunshineroom.com/_Media/dipped-ice-cream-cones-7_med_hr.jpeg\n",
      "[%] File Downloaded !\n",
      "\n",
      "[%] Downloading Image #18 from http://www.imagineoutloud.net/uploads/3/9/7/7/39773846/s432273583225059501_p958_i16_w2560.jpeg\n",
      "[%] File Downloaded !\n",
      "\n",
      "[%] Downloading Image #19 from http://2.bp.blogspot.com/-CTKyXIEXUH4/UDgAKEPXoaI/AAAAAAAAARA/C4KnIVJrSv0/s1600/icecreamcones_melting.jpg\n",
      "[%] File Downloaded !\n",
      "\n",
      "[%] Downloading Image #20 from http://del.h-cdn.co/assets/17/28/1499722556-screen-shot-2017-07-10-at-53410-pm.png\n",
      "[%] File Downloaded !\n",
      "\n",
      "[%] Downloading Image #21 from http://www.thethings.com/wp-content/uploads/2016/05/9877008d2a0a5412e8bbd7b8ee76e1f8.jpeg\n",
      "[%] File Downloaded !\n",
      "\n",
      "[%] Downloading Image #22 from https://images.squarespace-cdn.com/content/v1/52bf6358e4b0da7f33233c6c/1398127451173-C344VLU7I5YL45SAQR5B/ke17ZwdGBToddI8pDm48kG87Sfbgg29A4BYEDq3OXvgUqsxRUqqbr1mOJYKfIPR7LoDQ9mXPOjoJoqy81S2I8N_N4V1vUb5AoIIIbLZhVYxCRW4BPu10St3TBAUQYVKcf4OxbJOyh_wHUnyc4kQLQ6SBshRGOku7c30Y_IRDNPta8R2IY5BHMaEj1zOWoDTZ/animal-cracker-ice-cream.jpg\n",
      "[%] File Downloaded !\n",
      "\n",
      "[%] Downloading Image #23 from http://www.imagineoutloud.net/uploads/3/9/7/7/39773846/s432273583225059501_p572_i8_w2560.jpeg\n",
      "[%] File Downloaded !\n",
      "\n",
      "[%] Downloading Image #24 from http://www.imagineoutloud.net/uploads/3/9/7/7/39773846/s432273583225059501_p956_i19_w2560.jpeg\n",
      "[%] File Downloaded !\n",
      "\n",
      "[%] Downloading Image #25 from https://www.imagineoutloud.net/uploads/3/9/7/7/39773846/s432273583225059501_p956_i18_w2560.jpeg\n",
      "[%] File Downloaded !\n",
      "\n",
      "[%] Downloading Image #26 from https://www.imagineoutloud.net/uploads/3/9/7/7/39773846/s432273583225059501_p949_i14_w2560.jpeg\n",
      "[%] File Downloaded !\n",
      "\n",
      "[%] Downloading Image #27 from https://3.bp.blogspot.com/-o-nl4j7ddos/Ve1tjTUq-II/AAAAAAAAL3A/f1lUPILWi94/s1600/IMG_2372.jpg\n",
      "[%] File Downloaded !\n",
      "\n",
      "[%] Downloading Image #28 from http://www.imagineoutloud.net/uploads/3/9/7/7/39773846/s432273583225059501_p1064_i13_w2560.jpeg\n",
      "[%] File Downloaded !\n",
      "\n",
      "[%] Downloading Image #29 from https://www.savvymom.ca/wp-content/uploads/2017/05/Ice-Cream-Cone-Cupcakes-Full-Size.jpg\n",
      "[%] File Downloaded !\n",
      "\n",
      "\n",
      "\n",
      "[!!]Indexing page: 2\n",
      "\n",
      "[%] Indexed 35 Images on Page 2.\n",
      "\n",
      "===============================================\n",
      "\n",
      "[%] Downloading Image #30 from https://nationaltoday.com/wp-content/uploads/2019/09/national-ice-cream-cone-day.jpg\n",
      "[%] File Downloaded !\n",
      "\n",
      "\n",
      "\n",
      "[%] Done. Downloaded 30 images.\n",
      "===============================================\n",
      "\n",
      "Please show your support here\n",
      "https://www.buymeacoffee.com/gurugaurav\n",
      "\n",
      "===============================================\n",
      "\n",
      "time: 2min 43s (started: 2022-01-16 12:16:33 +05:30)\n"
     ]
    }
   ],
   "source": [
    "from bing_image_downloader import downloader\n",
    "downloader.download(\"ice cream cone\",limit=30,output_dir='images',adult_filter_off=True)"
   ]
  },
  {
   "cell_type": "code",
   "execution_count": 8,
   "metadata": {
    "colab": {
     "base_uri": "https://localhost:8080/"
    },
    "id": "O5Yw8ede09Un",
    "outputId": "ee67ceda-ea3a-4968-a562-d99dd268d884"
   },
   "outputs": [
    {
     "name": "stdout",
     "output_type": "stream",
     "text": [
      "[%] Downloading Images to C:\\Users\\mumma\\Desktop\\Project\\MINI-PROJECT-main\\MINI-PROJECT-main\\images\\pretty sunflower\n",
      "\n",
      "\n",
      "[!!]Indexing page: 1\n",
      "\n",
      "[%] Indexed 30 Images on Page 1.\n",
      "\n",
      "===============================================\n",
      "\n",
      "[%] Downloading Image #1 from https://i.pinimg.com/originals/52/a1/b6/52a1b6068b912c6b626b2d6aa7815000.jpg\n",
      "[%] File Downloaded !\n",
      "\n",
      "[%] Downloading Image #2 from https://i.pinimg.com/originals/75/ad/3f/75ad3f4512a7cfd54b272a2e6ee73c46.jpg\n",
      "[%] File Downloaded !\n",
      "\n",
      "[%] Downloading Image #3 from https://i.pinimg.com/originals/b3/95/dd/b395dddac440c52de609e1d1b12044b9.jpg\n",
      "[%] File Downloaded !\n",
      "\n",
      "[%] Downloading Image #4 from https://i.pinimg.com/736x/39/6a/84/396a840a2e0e4bc5b04e4c4bc2b873c6--sunflowers-sunshine.jpg\n",
      "[%] File Downloaded !\n",
      "\n",
      "[%] Downloading Image #5 from https://i.pinimg.com/originals/c7/50/db/c750db038ec49b4ca7e30566eb460a24.jpg\n",
      "[%] File Downloaded !\n",
      "\n",
      "[%] Downloading Image #6 from https://pixfeeds.com/images/flowers/sunflowers/1280-506587098-beautiful-sunflower.jpg\n",
      "[%] File Downloaded !\n",
      "\n",
      "[%] Downloading Image #7 from https://valeaston.typepad.com/.a/6a011168642488970c014e89a058ab970d-800wi\n",
      "[%] File Downloaded !\n",
      "\n",
      "[%] Downloading Image #8 from https://i.pinimg.com/originals/91/39/52/913952e8f81e8faa94481bda88e4dfba.jpg\n",
      "[%] File Downloaded !\n",
      "\n",
      "[%] Downloading Image #9 from https://i.pinimg.com/originals/ae/dc/b4/aedcb4cfe5cc804bd93fa7397285ab69.jpg\n",
      "[%] File Downloaded !\n",
      "\n",
      "[%] Downloading Image #10 from https://i.pinimg.com/474x/5f/d0/61/5fd061548b73976ecfef8a2a3d41dbf9--sunflowers.jpg\n",
      "[%] File Downloaded !\n",
      "\n",
      "[%] Downloading Image #11 from https://i.pinimg.com/originals/04/8a/5c/048a5c3dbd980942a106d52a71111a97.jpg\n",
      "[%] File Downloaded !\n",
      "\n",
      "[%] Downloading Image #12 from https://i.pinimg.com/originals/5a/70/49/5a70497d32b8d691cb2273b53eb987a8.jpg\n",
      "[%] File Downloaded !\n",
      "\n",
      "[%] Downloading Image #13 from https://i.pinimg.com/originals/ed/3c/74/ed3c7423806796e7c8a430d3b9104db6.jpg\n",
      "[%] File Downloaded !\n",
      "\n",
      "[%] Downloading Image #14 from https://i.pinimg.com/originals/f0/a0/dc/f0a0dc28c43f3347839073cca55eb189.jpg\n",
      "[%] File Downloaded !\n",
      "\n",
      "[%] Downloading Image #15 from http://3.bp.blogspot.com/-OtTngUp5dZs/TXZrBHvy6cI/AAAAAAAAAVI/qvvElE8u6dA/s1600/sunflower_wallpaper_1024x768.jpg\n",
      "[%] File Downloaded !\n",
      "\n",
      "[%] Downloading Image #16 from https://i.pinimg.com/originals/72/78/75/727875214e790c0a1e26ab57ce2fc8bd.jpg\n",
      "[%] File Downloaded !\n",
      "\n",
      "[%] Downloading Image #17 from https://dobies-liquid.s3-eu-west-1.amazonaws.com/p/xl/FLSSUN4433.jpg?ts=1605616296\n",
      "[%] File Downloaded !\n",
      "\n",
      "[%] Downloading Image #18 from https://s-media-cache-ak0.pinimg.com/736x/1f/79/24/1f7924ef0d0046564073ca674c443d0c.jpg\n",
      "[%] File Downloaded !\n",
      "\n",
      "[%] Downloading Image #19 from https://i.pinimg.com/originals/97/76/a4/9776a4956d8f3def3d608ce0eb2c4056.jpg\n",
      "[%] File Downloaded !\n",
      "\n",
      "[%] Downloading Image #20 from https://i.pinimg.com/originals/4f/82/ba/4f82ba183fc51948ad4e5143f31e8e07.jpg\n",
      "[%] File Downloaded !\n",
      "\n",
      "[%] Downloading Image #21 from https://i.pinimg.com/originals/4c/fb/f1/4cfbf1430624cb6d446b3389d51da812.jpg\n",
      "[%] File Downloaded !\n",
      "\n",
      "[%] Downloading Image #22 from https://i.pinimg.com/originals/9e/3d/89/9e3d8929a4ecf4c7702c2f10e27c97c8.jpg\n",
      "[%] File Downloaded !\n",
      "\n",
      "[%] Downloading Image #23 from https://pics.davesgarden.com/pics/2006/06/01/joebloom/39dd00.jpg\n",
      "[%] File Downloaded !\n",
      "\n",
      "[%] Downloading Image #24 from https://res.cloudinary.com/teepublic/image/private/s--7wIq5PaD--/t_Preview/b_rgb:191919,c_limit,f_auto,h_630,q_90,w_630/v1553986139/production/designs/4532530_0.jpg\n",
      "[%] File Downloaded !\n",
      "\n",
      "[%] Downloading Image #25 from https://i.pinimg.com/originals/f7/0d/11/f70d11647628b048be42a5b0df480a8b.jpg\n",
      "[%] File Downloaded !\n",
      "\n",
      "[%] Downloading Image #26 from https://i.pinimg.com/originals/d6/65/0d/d6650dfbe09a374d2a6f4fdca2f8a9f6.jpg\n",
      "[%] File Downloaded !\n",
      "\n",
      "[%] Downloading Image #27 from https://64.media.tumblr.com/5b984975b98f5c7efbfbeaf9e7692a7a/tumblr_ovwukgAaOv1qdg24vo2_1280.jpg\n",
      "[Error]Invalid image, not saving https://64.media.tumblr.com/5b984975b98f5c7efbfbeaf9e7692a7a/tumblr_ovwukgAaOv1qdg24vo2_1280.jpg\n",
      "\n",
      "[!] Issue getting: https://64.media.tumblr.com/5b984975b98f5c7efbfbeaf9e7692a7a/tumblr_ovwukgAaOv1qdg24vo2_1280.jpg\n",
      "[!] Error:: Invalid image, not saving https://64.media.tumblr.com/5b984975b98f5c7efbfbeaf9e7692a7a/tumblr_ovwukgAaOv1qdg24vo2_1280.jpg\n",
      "\n",
      "[%] Downloading Image #27 from http://www.anniesannuals.com/signs/s/images/sunflower_white_lite_attribute_johnnys_selected_seeds.jpg\n",
      "[%] File Downloaded !\n",
      "\n",
      "[%] Downloading Image #28 from https://i.pinimg.com/originals/f1/f7/77/f1f777383859b6d60a04b0dcdf7b08a4.jpg\n",
      "[%] File Downloaded !\n",
      "\n",
      "[%] Downloading Image #29 from https://i.pinimg.com/originals/81/cc/1b/81cc1b8a4448b0e925e03f2b68e56de8.jpg\n",
      "[%] File Downloaded !\n",
      "\n",
      "\n",
      "\n",
      "[!!]Indexing page: 2\n",
      "\n",
      "[%] Indexed 35 Images on Page 2.\n",
      "\n",
      "===============================================\n",
      "\n",
      "[%] Downloading Image #30 from https://i.pinimg.com/originals/52/a1/b6/52a1b6068b912c6b626b2d6aa7815000.jpg\n",
      "[%] File Downloaded !\n",
      "\n",
      "\n",
      "\n",
      "[%] Done. Downloaded 30 images.\n",
      "===============================================\n",
      "\n",
      "Please show your support here\n",
      "https://www.buymeacoffee.com/gurugaurav\n",
      "\n",
      "===============================================\n",
      "\n",
      "time: 12.4 s (started: 2022-01-16 12:19:41 +05:30)\n"
     ]
    }
   ],
   "source": [
    "from bing_image_downloader import downloader\n",
    "downloader.download(\"pretty sunflower\",limit=30,output_dir='images',adult_filter_off=True)"
   ]
  },
  {
   "cell_type": "code",
   "execution_count": 9,
   "metadata": {
    "colab": {
     "base_uri": "https://localhost:8080/"
    },
    "id": "o3m4TlbY1H9p",
    "outputId": "b05dcac6-abe1-4349-b723-7aa519f8dde0"
   },
   "outputs": [
    {
     "name": "stdout",
     "output_type": "stream",
     "text": [
      "[%] Downloading Images to C:\\Users\\mumma\\Desktop\\Project\\MINI-PROJECT-main\\MINI-PROJECT-main\\images\\rugby ball leather\n",
      "\n",
      "\n",
      "[!!]Indexing page: 1\n",
      "\n",
      "[%] Indexed 30 Images on Page 1.\n",
      "\n",
      "===============================================\n",
      "\n",
      "[%] Downloading Image #1 from https://sportantiques.co.uk/pub/media/catalog/product/2/5/sportantiques-small-967051981234.jpg\n",
      "[Error]Invalid image, not saving https://sportantiques.co.uk/pub/media/catalog/product/2/5/sportantiques-small-967051981234.jpg\n",
      "\n",
      "[!] Issue getting: https://sportantiques.co.uk/pub/media/catalog/product/2/5/sportantiques-small-967051981234.jpg\n",
      "[!] Error:: Invalid image, not saving https://sportantiques.co.uk/pub/media/catalog/product/2/5/sportantiques-small-967051981234.jpg\n",
      "\n",
      "[%] Downloading Image #1 from https://sportantiques.co.uk/pub/media/catalog/product/2/5/sportantiques-541888181193.jpg\n",
      "[Error]Invalid image, not saving https://sportantiques.co.uk/pub/media/catalog/product/2/5/sportantiques-541888181193.jpg\n",
      "\n",
      "[!] Issue getting: https://sportantiques.co.uk/pub/media/catalog/product/2/5/sportantiques-541888181193.jpg\n",
      "[!] Error:: Invalid image, not saving https://sportantiques.co.uk/pub/media/catalog/product/2/5/sportantiques-541888181193.jpg\n",
      "\n",
      "[%] Downloading Image #1 from https://sportantiques.co.uk/pub/media/catalog/product/2/5/sportantiques-small-967051981236.jpg\n",
      "[Error]Invalid image, not saving https://sportantiques.co.uk/pub/media/catalog/product/2/5/sportantiques-small-967051981236.jpg\n",
      "\n",
      "[!] Issue getting: https://sportantiques.co.uk/pub/media/catalog/product/2/5/sportantiques-small-967051981236.jpg\n",
      "[!] Error:: Invalid image, not saving https://sportantiques.co.uk/pub/media/catalog/product/2/5/sportantiques-small-967051981236.jpg\n",
      "\n",
      "[%] Downloading Image #1 from https://i.pinimg.com/736x/86/65/d1/8665d1e8f60c29b94d99af5af6fa362b--beyond-the-rack-rugby.jpg\n",
      "[%] File Downloaded !\n",
      "\n",
      "[%] Downloading Image #2 from https://i.pinimg.com/originals/36/ac/18/36ac18ae71247bc1ae374fddb2b878a7.jpg\n",
      "[%] File Downloaded !\n",
      "\n",
      "[%] Downloading Image #3 from https://i.ebayimg.com/images/g/U64AAOSwmzxetbWI/s-l640.jpg\n",
      "[%] File Downloaded !\n",
      "\n",
      "[%] Downloading Image #4 from https://mysports.lk/wp-content/uploads/2020/05/true-test-ball-SF-sl-1024x870.jpg\n",
      "[%] File Downloaded !\n",
      "\n",
      "[%] Downloading Image #5 from https://i.ebayimg.com/images/g/JFQAAOSw3ytec0Tw/s-l400.jpg\n",
      "[%] File Downloaded !\n",
      "\n",
      "[%] Downloading Image #6 from https://s-media-cache-ak0.pinimg.com/736x/f5/05/f0/f505f0bea323beef67ea224ecaedda8a.jpg\n",
      "[%] File Downloaded !\n",
      "\n",
      "[%] Downloading Image #7 from https://i.ebayimg.com/images/g/dNcAAOSwfcVUJXts/s-l400.jpg\n",
      "[%] File Downloaded !\n",
      "\n",
      "[%] Downloading Image #8 from http://img1.etsystatic.com/013/0/7864717/il_570xN.431074825_ewio.jpg\n",
      "[%] File Downloaded !\n",
      "\n",
      "[%] Downloading Image #9 from https://i.ebayimg.com/images/g/GqMAAOSwybdcx2KA/s-l640.jpg\n",
      "[%] File Downloaded !\n",
      "\n",
      "[%] Downloading Image #10 from https://i.ebayimg.com/images/g/6yQAAOSwWNRetbWH/s-l640.jpg\n",
      "[%] File Downloaded !\n",
      "\n",
      "[%] Downloading Image #11 from https://i.ebayimg.com/images/g/XcAAAOSw6OletbV9/s-l640.jpg\n",
      "[%] File Downloaded !\n",
      "\n",
      "[%] Downloading Image #12 from https://i.ebayimg.com/images/i/380851713175-0-1/s-l1000.jpg\n",
      "[%] File Downloaded !\n",
      "\n",
      "[%] Downloading Image #13 from https://i.ebayimg.com/images/g/IeEAAOSwjW5etbWE/s-l640.jpg\n",
      "[%] File Downloaded !\n",
      "\n",
      "[%] Downloading Image #14 from https://i.ebayimg.com/images/g/uVQAAOSw-JtcYKg6/s-l400.jpg\n",
      "[%] File Downloaded !\n",
      "\n",
      "[%] Downloading Image #15 from http://www.roviasports.com/images/products/orignal/vintage_ball/vintage_rugby_ball/VINTAGE BALL (Black Leather)/vintage-ball-black-leathera.jpg\n",
      "[!] Issue getting: http://www.roviasports.com/images/products/orignal/vintage_ball/vintage_rugby_ball/VINTAGE BALL (Black Leather)/vintage-ball-black-leathera.jpg\n",
      "[!] Error:: URL can't contain control characters. '/images/products/orignal/vintage_ball/vintage_rugby_ball/VINTAGE BALL (Black Leather)/vintage-ball-black-leathera.jpg' (found at least ' ')\n",
      "[%] Downloading Image #15 from https://i.ebayimg.com/images/g/6NYAAOSwcINfAeaM/s-l640.jpg\n",
      "[%] File Downloaded !\n",
      "\n",
      "[%] Downloading Image #16 from http://i.ebayimg.com/00/s/MjUwWDE5Ng==/z/H3cAAOxyYSdS-zH9/$_3.JPG?set_id=2\n",
      "[%] File Downloaded !\n",
      "\n",
      "[%] Downloading Image #17 from https://i.ebayimg.com/images/g/gocAAOSwndZfKGpF/s-l640.jpg\n",
      "[%] File Downloaded !\n",
      "\n",
      "[%] Downloading Image #18 from https://i.ebayimg.com/images/g/0c8AAOSwirNfKGpB/s-l640.jpg\n",
      "[%] File Downloaded !\n",
      "\n",
      "[%] Downloading Image #19 from https://i.ebayimg.com/images/g/QPMAAOSw6V1fKGo9/s-l640.jpg\n",
      "[%] File Downloaded !\n",
      "\n",
      "[%] Downloading Image #20 from https://cdn.shopify.com/s/files/1/0788/5979/products/mvp-leather-balls-brown-cream-leather-rugby-ball-2_600x.jpg?v=1550134649\n",
      "[%] File Downloaded !\n",
      "\n",
      "[%] Downloading Image #21 from https://i.ebayimg.com/images/g/MdMAAOSw~-RfKGo~/s-l640.jpg\n",
      "[%] File Downloaded !\n",
      "\n",
      "[%] Downloading Image #22 from http://img1.etsystatic.com/022/0/7864717/il_570xN.473210603_ob35.jpg\n",
      "[%] File Downloaded !\n",
      "\n",
      "[%] Downloading Image #23 from https://i.ebayimg.com/images/g/-XMAAOSw9INfKGo6/s-l640.jpg\n",
      "[%] File Downloaded !\n",
      "\n",
      "[%] Downloading Image #24 from https://i.ebayimg.com/images/g/2rgAAOSwuvtbzNOr/s-l400.jpg\n",
      "[%] File Downloaded !\n",
      "\n",
      "[%] Downloading Image #25 from https://www.menkind.co.uk/media/catalog/product/cache/image/1000x/beff4985b56e3afdbeabfc89641a4582/l/e/leather-rugby-washbag-428.jpg\n",
      "[%] File Downloaded !\n",
      "\n",
      "[%] Downloading Image #26 from https://www.sportcart.in/products/2020/376/truetestleatherball2.jpg\n",
      "[%] File Downloaded !\n",
      "\n",
      "\n",
      "\n",
      "[!!]Indexing page: 2\n",
      "\n",
      "[%] Indexed 35 Images on Page 2.\n",
      "\n",
      "===============================================\n",
      "\n",
      "[%] Downloading Image #27 from https://sportantiques.co.uk/pub/media/catalog/product/2/5/sportantiques-small-967051981234.jpg\n",
      "[Error]Invalid image, not saving https://sportantiques.co.uk/pub/media/catalog/product/2/5/sportantiques-small-967051981234.jpg\n",
      "\n",
      "[!] Issue getting: https://sportantiques.co.uk/pub/media/catalog/product/2/5/sportantiques-small-967051981234.jpg\n",
      "[!] Error:: Invalid image, not saving https://sportantiques.co.uk/pub/media/catalog/product/2/5/sportantiques-small-967051981234.jpg\n",
      "\n",
      "[%] Downloading Image #27 from https://sportantiques.co.uk/pub/media/catalog/product/2/5/sportantiques-541888181193.jpg\n",
      "[Error]Invalid image, not saving https://sportantiques.co.uk/pub/media/catalog/product/2/5/sportantiques-541888181193.jpg\n",
      "\n",
      "[!] Issue getting: https://sportantiques.co.uk/pub/media/catalog/product/2/5/sportantiques-541888181193.jpg\n",
      "[!] Error:: Invalid image, not saving https://sportantiques.co.uk/pub/media/catalog/product/2/5/sportantiques-541888181193.jpg\n",
      "\n",
      "[%] Downloading Image #27 from https://sportantiques.co.uk/pub/media/catalog/product/2/5/sportantiques-small-967051981236.jpg\n",
      "[Error]Invalid image, not saving https://sportantiques.co.uk/pub/media/catalog/product/2/5/sportantiques-small-967051981236.jpg\n",
      "\n",
      "[!] Issue getting: https://sportantiques.co.uk/pub/media/catalog/product/2/5/sportantiques-small-967051981236.jpg\n",
      "[!] Error:: Invalid image, not saving https://sportantiques.co.uk/pub/media/catalog/product/2/5/sportantiques-small-967051981236.jpg\n",
      "\n",
      "[%] Downloading Image #27 from https://i.pinimg.com/736x/86/65/d1/8665d1e8f60c29b94d99af5af6fa362b--beyond-the-rack-rugby.jpg\n",
      "[%] File Downloaded !\n",
      "\n",
      "[%] Downloading Image #28 from https://i.ebayimg.com/images/g/U64AAOSwmzxetbWI/s-l640.jpg\n",
      "[%] File Downloaded !\n",
      "\n",
      "[%] Downloading Image #29 from https://i.pinimg.com/originals/36/ac/18/36ac18ae71247bc1ae374fddb2b878a7.jpg\n",
      "[%] File Downloaded !\n",
      "\n",
      "[%] Downloading Image #30 from https://s-media-cache-ak0.pinimg.com/736x/f5/05/f0/f505f0bea323beef67ea224ecaedda8a.jpg\n",
      "[%] File Downloaded !\n",
      "\n",
      "\n",
      "\n",
      "[%] Done. Downloaded 30 images.\n",
      "===============================================\n",
      "\n",
      "Please show your support here\n",
      "https://www.buymeacoffee.com/gurugaurav\n",
      "\n",
      "===============================================\n",
      "\n",
      "time: 33.6 s (started: 2022-01-16 12:23:45 +05:30)\n"
     ]
    }
   ],
   "source": [
    "from bing_image_downloader import downloader\n",
    "downloader.download(\"rugby ball leather\",limit=30,output_dir='images',adult_filter_off=True)"
   ]
  },
  {
   "cell_type": "code",
   "execution_count": 23,
   "metadata": {
    "colab": {
     "base_uri": "https://localhost:8080/"
    },
    "id": "3ebC00rl1TIj",
    "outputId": "5b723150-a08a-4e9e-a238-0d5fe7c9c413"
   },
   "outputs": [
    {
     "data": {
      "text/plain": [
       "2"
      ]
     },
     "execution_count": 23,
     "metadata": {},
     "output_type": "execute_result"
    },
    {
     "name": "stdout",
     "output_type": "stream",
     "text": [
      "time: 16 ms (started: 2022-01-16 12:29:31 +05:30)\n"
     ]
    }
   ],
   "source": [
    "import numpy as np\n",
    "\n",
    "a = np.array([[1,2,3,4,5],[4,5,6,7,8]])\n",
    "a.ndim"
   ]
  },
  {
   "cell_type": "code",
   "execution_count": 24,
   "metadata": {
    "colab": {
     "base_uri": "https://localhost:8080/"
    },
    "id": "8NJMpKt-1lOY",
    "outputId": "586aab78-1ba2-46e8-9ddb-f43e5eee2265"
   },
   "outputs": [
    {
     "data": {
      "text/plain": [
       "array([1, 2, 3, 4, 5, 4, 5, 6, 7, 8])"
      ]
     },
     "execution_count": 24,
     "metadata": {},
     "output_type": "execute_result"
    },
    {
     "name": "stdout",
     "output_type": "stream",
     "text": [
      "time: 0 ns (started: 2022-01-16 12:29:33 +05:30)\n"
     ]
    }
   ],
   "source": [
    "#How do i convert Matrix to Vector? - flatten()\n",
    "a.flatten()"
   ]
  },
  {
   "cell_type": "code",
   "execution_count": 27,
   "metadata": {
    "colab": {
     "base_uri": "https://localhost:8080/"
    },
    "id": "TYrNXPJr1wki",
    "outputId": "e81c09ef-4528-41fb-e36a-c30965b34800"
   },
   "outputs": [
    {
     "ename": "ModuleNotFoundError",
     "evalue": "No module named 'skimage'",
     "output_type": "error",
     "traceback": [
      "\u001b[1;31m---------------------------------------------------------------------------\u001b[0m",
      "\u001b[1;31mModuleNotFoundError\u001b[0m                       Traceback (most recent call last)",
      "Input \u001b[1;32mIn [27]\u001b[0m, in \u001b[0;36m<module>\u001b[1;34m\u001b[0m\n\u001b[0;32m      6\u001b[0m \u001b[38;5;28;01mimport\u001b[39;00m \u001b[38;5;21;01mmatplotlib\u001b[39;00m\u001b[38;5;21;01m.\u001b[39;00m\u001b[38;5;21;01mpyplot\u001b[39;00m \u001b[38;5;28;01mas\u001b[39;00m \u001b[38;5;21;01mplt\u001b[39;00m\n\u001b[0;32m      7\u001b[0m \u001b[38;5;28;01mimport\u001b[39;00m \u001b[38;5;21;01mnumpy\u001b[39;00m \u001b[38;5;28;01mas\u001b[39;00m \u001b[38;5;21;01mnp\u001b[39;00m\n\u001b[1;32m----> 8\u001b[0m \u001b[38;5;28;01mfrom\u001b[39;00m \u001b[38;5;21;01mskimage\u001b[39;00m\u001b[38;5;21;01m.\u001b[39;00m\u001b[38;5;21;01mio\u001b[39;00m \u001b[38;5;28;01mimport\u001b[39;00m imread\n\u001b[0;32m      9\u001b[0m \u001b[38;5;28;01mfrom\u001b[39;00m \u001b[38;5;21;01mskimage\u001b[39;00m\u001b[38;5;21;01m.\u001b[39;00m\u001b[38;5;21;01mtransform\u001b[39;00m \u001b[38;5;28;01mimport\u001b[39;00m resize\n\u001b[0;32m     11\u001b[0m target \u001b[38;5;241m=\u001b[39m []\n",
      "\u001b[1;31mModuleNotFoundError\u001b[0m: No module named 'skimage'"
     ]
    },
    {
     "name": "stdout",
     "output_type": "stream",
     "text": [
      "time: 32 ms (started: 2022-01-16 12:30:16 +05:30)\n"
     ]
    }
   ],
   "source": [
    "# Preprocessing\n",
    "# 1.Resize\n",
    "# 2.flatten\n",
    "\n",
    "import os\n",
    "import matplotlib.pyplot as plt\n",
    "import numpy as np\n",
    "from skimage.io import imread\n",
    "from skimage.transform import resize\n",
    "\n",
    "target = []\n",
    "images = []\n",
    "flat_data = []\n",
    "\n",
    "DATADIR = '/content/images'\n",
    "CATEGORIES = ['pretty sunflower','rugby ball leather','ice cream cone']\n",
    "\n",
    "for category in CATEGORIES:\n",
    "  class_num = CATEGORIES.index(category)#Lable Encoding the values\n",
    "  path = os.path.join(DATADIR,category)#Create path to use all the images\n",
    "  #print(path)\n",
    "  for img in os.listdir(path):\n",
    "    img_array = imread(os.path.join(path,img))\n",
    "    #print(img_array.shape)\n",
    "    #plt.imshow(img_array)\n",
    "    img_resized = resize(img_array,(150,150,3))# Normalizes the value from 0 to 1  \n",
    "    flat_data.append(img_resized.flatten())\n",
    "    images.append(img_resized)\n",
    "    target.append(class_num)\n",
    "\n",
    "flat_data = np.array(flat_data)\n",
    "target = np.array(target)\n",
    "images = np.array(images)"
   ]
  },
  {
   "cell_type": "code",
   "execution_count": 28,
   "metadata": {
    "colab": {
     "base_uri": "https://localhost:8080/"
    },
    "id": "9kXRnVMO18Ns",
    "outputId": "5e694071-b93c-4223-c656-d53e02cbf698"
   },
   "outputs": [
    {
     "ename": "NameError",
     "evalue": "name 'flat_data' is not defined",
     "output_type": "error",
     "traceback": [
      "\u001b[1;31m---------------------------------------------------------------------------\u001b[0m",
      "\u001b[1;31mNameError\u001b[0m                                 Traceback (most recent call last)",
      "Input \u001b[1;32mIn [28]\u001b[0m, in \u001b[0;36m<module>\u001b[1;34m\u001b[0m\n\u001b[1;32m----> 1\u001b[0m \u001b[38;5;28mlen\u001b[39m(\u001b[43mflat_data\u001b[49m[\u001b[38;5;241m0\u001b[39m])\n",
      "\u001b[1;31mNameError\u001b[0m: name 'flat_data' is not defined"
     ]
    },
    {
     "name": "stdout",
     "output_type": "stream",
     "text": [
      "time: 16 ms (started: 2022-01-16 12:30:33 +05:30)\n"
     ]
    }
   ],
   "source": [
    "len(flat_data[0])"
   ]
  },
  {
   "cell_type": "code",
   "execution_count": 29,
   "metadata": {},
   "outputs": [
    {
     "name": "stdout",
     "output_type": "stream",
     "text": [
      "Requirement already satisfied: matplotlib in c:\\users\\mumma\\appdata\\local\\programs\\python\\python39\\lib\\site-packages (3.5.1)\n",
      "Requirement already satisfied: numpy>=1.17 in c:\\users\\mumma\\appdata\\local\\programs\\python\\python39\\lib\\site-packages (from matplotlib) (1.22.1)\n",
      "Requirement already satisfied: kiwisolver>=1.0.1 in c:\\users\\mumma\\appdata\\local\\programs\\python\\python39\\lib\\site-packages (from matplotlib) (1.3.2)\n",
      "Requirement already satisfied: packaging>=20.0 in c:\\users\\mumma\\appdata\\local\\programs\\python\\python39\\lib\\site-packages (from matplotlib) (21.3)\n",
      "Requirement already satisfied: cycler>=0.10 in c:\\users\\mumma\\appdata\\local\\programs\\python\\python39\\lib\\site-packages (from matplotlib) (0.11.0)\n",
      "Requirement already satisfied: pillow>=6.2.0 in c:\\users\\mumma\\appdata\\local\\programs\\python\\python39\\lib\\site-packages (from matplotlib) (9.0.0)\n",
      "Requirement already satisfied: fonttools>=4.22.0 in c:\\users\\mumma\\appdata\\local\\programs\\python\\python39\\lib\\site-packages (from matplotlib) (4.28.5)\n",
      "Requirement already satisfied: python-dateutil>=2.7 in c:\\users\\mumma\\appdata\\local\\programs\\python\\python39\\lib\\site-packages (from matplotlib) (2.8.2)\n",
      "Requirement already satisfied: pyparsing>=2.2.1 in c:\\users\\mumma\\appdata\\local\\programs\\python\\python39\\lib\\site-packages (from matplotlib) (3.0.6)\n",
      "Requirement already satisfied: six>=1.5 in c:\\users\\mumma\\appdata\\local\\programs\\python\\python39\\lib\\site-packages (from python-dateutil>=2.7->matplotlib) (1.16.0)\n"
     ]
    },
    {
     "name": "stderr",
     "output_type": "stream",
     "text": [
      "WARNING: You are using pip version 21.2.4; however, version 21.3.1 is available.\n",
      "You should consider upgrading via the 'C:\\Users\\mumma\\AppData\\Local\\Programs\\Python\\Python39\\python.exe -m pip install --upgrade pip' command.\n"
     ]
    },
    {
     "name": "stdout",
     "output_type": "stream",
     "text": [
      "time: 1.92 s (started: 2022-01-16 12:31:01 +05:30)\n"
     ]
    },
    {
     "name": "stderr",
     "output_type": "stream",
     "text": [
      "ERROR: Could not find a version that satisfies the requirement skimage.io (from versions: none)\n",
      "ERROR: No matching distribution found for skimage.io\n",
      "WARNING: You are using pip version 21.2.4; however, version 21.3.1 is available.\n",
      "You should consider upgrading via the 'C:\\Users\\mumma\\AppData\\Local\\Programs\\Python\\Python39\\python.exe -m pip install --upgrade pip' command.\n"
     ]
    }
   ],
   "source": [
    "!pip install matplotlib\n",
    "!pip install skimage.io\n"
   ]
  },
  {
   "cell_type": "code",
   "execution_count": 21,
   "metadata": {
    "colab": {
     "base_uri": "https://localhost:8080/"
    },
    "id": "5AGVO7KL1900",
    "outputId": "dac80ab7-a0b7-42c5-ae40-c9ac7329ac96"
   },
   "outputs": [
    {
     "data": {
      "text/plain": [
       "67500"
      ]
     },
     "execution_count": 21,
     "metadata": {},
     "output_type": "execute_result"
    },
    {
     "name": "stdout",
     "output_type": "stream",
     "text": [
      "time: 16 ms (started: 2022-01-16 12:29:13 +05:30)\n"
     ]
    }
   ],
   "source": [
    "150*150*3"
   ]
  },
  {
   "cell_type": "code",
   "execution_count": 22,
   "metadata": {
    "colab": {
     "base_uri": "https://localhost:8080/"
    },
    "id": "mR8cKP_w2Dei",
    "outputId": "136b4ab4-ff02-4d79-da1e-5fa9f3bffce2"
   },
   "outputs": [
    {
     "ename": "NameError",
     "evalue": "name 'target' is not defined",
     "output_type": "error",
     "traceback": [
      "\u001b[1;31m---------------------------------------------------------------------------\u001b[0m",
      "\u001b[1;31mNameError\u001b[0m                                 Traceback (most recent call last)",
      "Input \u001b[1;32mIn [22]\u001b[0m, in \u001b[0;36m<module>\u001b[1;34m\u001b[0m\n\u001b[1;32m----> 1\u001b[0m \u001b[43mtarget\u001b[49m\n",
      "\u001b[1;31mNameError\u001b[0m: name 'target' is not defined"
     ]
    },
    {
     "name": "stdout",
     "output_type": "stream",
     "text": [
      "time: 31 ms (started: 2022-01-16 12:29:13 +05:30)\n"
     ]
    }
   ],
   "source": [
    "target"
   ]
  },
  {
   "cell_type": "code",
   "execution_count": null,
   "metadata": {
    "colab": {
     "base_uri": "https://localhost:8080/",
     "height": 298
    },
    "id": "f7nnqR412NJe",
    "outputId": "508813aa-4ebf-4c51-ea62-3802b52fd68a"
   },
   "outputs": [],
   "source": [
    "unique,count = np.unique(target,return_counts=True)\n",
    "plt.bar(CATEGORIES,count)"
   ]
  },
  {
   "cell_type": "code",
   "execution_count": null,
   "metadata": {
    "colab": {
     "base_uri": "https://localhost:8080/"
    },
    "id": "9wy3_xVt2YKf",
    "outputId": "30286dfb-ada1-4ead-813e-4f856b58f1e0"
   },
   "outputs": [],
   "source": [
    "#split data into Training and testing\n",
    "from sklearn.model_selection import train_test_split\n",
    "x_train,x_test,y_train,y_test = train_test_split(flat_data,target,test_size=0.3,random_state=109)"
   ]
  },
  {
   "cell_type": "code",
   "execution_count": null,
   "metadata": {
    "colab": {
     "base_uri": "https://localhost:8080/"
    },
    "id": "-GztfkB63BJj",
    "outputId": "29f5bc8d-95b0-40c2-a934-349ad0cf1de3"
   },
   "outputs": [],
   "source": [
    "from sklearn.model_selection import GridSearchCV\n",
    "from sklearn import svm\n",
    "param_grid = [\n",
    "              {'C':[1,10,100,1000],'kernel':['linear']},\n",
    "              {'C':[1,10,100,1000],'gamma':[0.001,0.0001],'kernel':['rbf']},\n",
    "]\n",
    "\n",
    "svc = svm.SVC(probability=True)\n",
    "clf = GridSearchCV(svc,param_grid)\n",
    "clf.fit(x_train,y_train)"
   ]
  },
  {
   "cell_type": "code",
   "execution_count": null,
   "metadata": {
    "colab": {
     "base_uri": "https://localhost:8080/"
    },
    "id": "7rgzcBLK3ZF_",
    "outputId": "11cca1b1-e5e5-4e4c-cf4e-4bda4c126003"
   },
   "outputs": [],
   "source": [
    "y_pred=clf.predict(x_test)\n",
    "y_pred"
   ]
  },
  {
   "cell_type": "code",
   "execution_count": null,
   "metadata": {
    "colab": {
     "base_uri": "https://localhost:8080/"
    },
    "id": "3IvW43Wk3yct",
    "outputId": "47a5ff98-3e8d-4ebf-adc0-cfb07d0e18d5"
   },
   "outputs": [],
   "source": [
    "y_test"
   ]
  },
  {
   "cell_type": "code",
   "execution_count": null,
   "metadata": {
    "colab": {
     "base_uri": "https://localhost:8080/"
    },
    "id": "Et-Cyp4d3zYL",
    "outputId": "ba13ae11-bc14-48b9-985e-b3becee0db12"
   },
   "outputs": [],
   "source": [
    "from sklearn.metrics import accuracy_score,confusion_matrix"
   ]
  },
  {
   "cell_type": "code",
   "execution_count": null,
   "metadata": {
    "colab": {
     "base_uri": "https://localhost:8080/"
    },
    "id": "AK9z-eh14ECz",
    "outputId": "f0c3afc2-4d00-43b2-9358-f77d9db3abe0"
   },
   "outputs": [],
   "source": [
    "accuracy_score(y_pred,y_test)"
   ]
  },
  {
   "cell_type": "code",
   "execution_count": null,
   "metadata": {
    "colab": {
     "base_uri": "https://localhost:8080/"
    },
    "id": "EvpuNMBb4MUC",
    "outputId": "30a9a974-4774-4ec5-e37b-d6771a33af90"
   },
   "outputs": [],
   "source": [
    "confusion_matrix(y_pred,y_test)"
   ]
  },
  {
   "cell_type": "code",
   "execution_count": null,
   "metadata": {
    "colab": {
     "base_uri": "https://localhost:8080/"
    },
    "id": "6-G9QQY34YJb",
    "outputId": "838f9085-c8fa-4588-8fae-1f947cc40521"
   },
   "outputs": [],
   "source": [
    "import pickle\n",
    "pickle.dump(clf,open('img_model.p','wb'))"
   ]
  },
  {
   "cell_type": "code",
   "execution_count": null,
   "metadata": {
    "colab": {
     "base_uri": "https://localhost:8080/"
    },
    "id": "tRFQRf4X497l",
    "outputId": "4341ce09-853e-4fe5-9c18-c8cae81a4110"
   },
   "outputs": [],
   "source": [
    "model = pickle.load(open('img_model.p','rb'))"
   ]
  },
  {
   "cell_type": "code",
   "execution_count": null,
   "metadata": {
    "colab": {
     "base_uri": "https://localhost:8080/",
     "height": 356
    },
    "id": "NISzRUIs5daj",
    "outputId": "2a443e7b-2698-479a-8f50-9300e526c358"
   },
   "outputs": [],
   "source": [
    "flat_data=[]\n",
    "url=input('Enter your URL')\n",
    "img=imread(url)\n",
    "img_resized=resize(img,(150,150,3))\n",
    "flat_data.append(img_resized.flatten())\n",
    "flat_data=np.array(flat_data)\n",
    "print(img.shape)\n",
    "plt.imshow(img_resized)\n",
    "y_out=model.predict(flat_data)\n",
    "y_out=CATEGORIES[y_out[0]]\n",
    "print(f' PREDICTED OUTPUT:{y_out}')"
   ]
  },
  {
   "cell_type": "code",
   "execution_count": null,
   "metadata": {
    "colab": {
     "base_uri": "https://localhost:8080/",
     "height": 1000
    },
    "id": "FZwqXk2RK7qu",
    "outputId": "2310d5f8-2d3e-4f87-84c6-b6b560569493"
   },
   "outputs": [],
   "source": [
    "!pip install streamlit \n",
    "\n",
    "!pip install pyngrok\n",
    "from pyngrok import ngrok"
   ]
  },
  {
   "cell_type": "code",
   "execution_count": null,
   "metadata": {
    "colab": {
     "base_uri": "https://localhost:8080/"
    },
    "id": "LBafiOXkLbqv",
    "outputId": "062c9c2e-7988-41fb-da93-79d5567487bb"
   },
   "outputs": [],
   "source": [
    "%%writefile app.py\n",
    "import streamlit as st\n",
    "import numpy as np\n",
    "from skimage.io import imread\n",
    "from skimage.transform import resize\n",
    "import pickle\n",
    "from PIL import Image\n",
    "st.set_option('deprecation.showfileUploaderEncoding',False)\n",
    "st.title('Image Classifier using Machine Learning')\n",
    "st.text('Upload the Image')\n",
    "\n",
    "model=pickle.load(open('img_model.p','rb'))\n",
    "uploaded_file=st.file_uploader(\"Choose an image...\",type=\"jpg\")\n",
    "if uploaded_file is not None:\n",
    "  img=Image.open(uploaded_file)\n",
    "  st.image(img,caption='Uploaded Image')\n",
    "\n",
    "  if st.button('PREDICT'):\n",
    "    CATEGORIES = ['pretty sunflower','rugby ball leather','ice cream cone']\n",
    "    st.write('Result...')\n",
    "    flat_data=[]\n",
    "    img=np.array(img)\n",
    "    img_resized=resize(img,(150,150,3))\n",
    "    flat_data.append(img_resized.flatten())\n",
    "    flat_data=np.array(flat_data)\n",
    "    y_out=model.predict(flat_data)\n",
    "    y_out=CATEGORIES[y_out[0]]\n",
    "    st.title(f' PREDICTED OUTPUT:{y_out}')  "
   ]
  },
  {
   "cell_type": "code",
   "execution_count": null,
   "metadata": {
    "colab": {
     "base_uri": "https://localhost:8080/"
    },
    "id": "9Jr_J4WZMhvW",
    "outputId": "a1f11c55-950b-43ed-bcef-b47e6692849c"
   },
   "outputs": [],
   "source": [
    "!nohup streamlit run app.py &\n",
    "\n",
    "url=ngrok.connect(port='8501')\n",
    "url"
   ]
  }
 ],
 "metadata": {
  "colab": {
   "authorship_tag": "ABX9TyOkhMO5AdOJX6GsHRGTh08D",
   "include_colab_link": true,
   "name": "IMAGE CLASSIFICATION.ipynb",
   "provenance": []
  },
  "kernelspec": {
   "display_name": "Python 3 (ipykernel)",
   "language": "python",
   "name": "python3"
  },
  "language_info": {
   "codemirror_mode": {
    "name": "ipython",
    "version": 3
   },
   "file_extension": ".py",
   "mimetype": "text/x-python",
   "name": "python",
   "nbconvert_exporter": "python",
   "pygments_lexer": "ipython3",
   "version": "3.9.9"
  }
 },
 "nbformat": 4,
 "nbformat_minor": 1
}
